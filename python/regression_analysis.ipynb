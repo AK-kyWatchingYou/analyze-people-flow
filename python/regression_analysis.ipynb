{
 "cells": [
  {
   "cell_type": "code",
   "id": "initial_id",
   "metadata": {
    "collapsed": true,
    "ExecuteTime": {
     "end_time": "2024-07-18T04:47:19.564742Z",
     "start_time": "2024-07-18T04:47:16.731570Z"
    }
   },
   "source": [
    "# 必要なライブラリのインポート\n",
    "import pandas as pd\n",
    "\n",
    "# 必要なライブラリのインポート\n",
    "from sklearn.model_selection import train_test_split\n",
    "from sklearn.linear_model import LinearRegression"
   ],
   "outputs": [],
   "execution_count": 1
  },
  {
   "metadata": {},
   "cell_type": "code",
   "outputs": [],
   "execution_count": null,
   "source": [
    "# csvの読み込み\n",
    "df = pd.read_csv('data.csv')"
   ],
   "id": "940579f12242616d"
  },
  {
   "metadata": {},
   "cell_type": "code",
   "outputs": [],
   "execution_count": null,
   "source": [
    "# 目的変数：総旅行費用、説明変数を旅行距離に設定\n",
    "\n",
    "x = \n",
    "y =\n",
    "\n",
    "x_train, x_test, y_train, y_test = train_test_split(x, y, test_size=0.2, random_state=0)"
   ],
   "id": "d565d6c4c1844545"
  },
  {
   "metadata": {},
   "cell_type": "code",
   "outputs": [],
   "execution_count": null,
   "source": [
    "# データの標準化\n",
    "from sklearn import preprocessing\n",
    "\n",
    "ss = preprocessing.StandardScaler()\n",
    "ss.fit(x_train)\n",
    "x_train = ss.transform(x_train)\n",
    "x_test = ss.transform(x_test)"
   ],
   "id": "4743d699b8f98d02"
  },
  {
   "metadata": {},
   "cell_type": "code",
   "outputs": [],
   "execution_count": null,
   "source": [
    "# モデルの初期化と学習\n",
    "\n",
    "model = LinearRegression()\n",
    "model.fit(x_train, y_train)"
   ],
   "id": "428c4e4b04e5bf9c"
  },
  {
   "metadata": {},
   "cell_type": "code",
   "outputs": [],
   "execution_count": null,
   "source": [
    "print('訓練データに対する決定係数：', model.score(x_train, y_train))\n",
    "print('テストデータに対する決定係数：', model.score(x_test, y_test))"
   ],
   "id": "893594a5a95efdd3"
  },
  {
   "metadata": {},
   "cell_type": "code",
   "outputs": [],
   "execution_count": null,
   "source": [
    "# 回帰係数の算出\n",
    "pd.Series(model.coef_, index=x.columns)"
   ],
   "id": "6bd9906ef0c9e695"
  },
  {
   "metadata": {},
   "cell_type": "code",
   "outputs": [],
   "execution_count": null,
   "source": [
    "# ポアソン回帰モデルで使う値\n",
    "delta = pd.Series(model.coef_, index=x.columns)"
   ],
   "id": "d137758b3a926c82"
  }
 ],
 "metadata": {
  "kernelspec": {
   "display_name": "Python 3",
   "language": "python",
   "name": "python3"
  },
  "language_info": {
   "codemirror_mode": {
    "name": "ipython",
    "version": 2
   },
   "file_extension": ".py",
   "mimetype": "text/x-python",
   "name": "python",
   "nbconvert_exporter": "python",
   "pygments_lexer": "ipython2",
   "version": "2.7.6"
  }
 },
 "nbformat": 4,
 "nbformat_minor": 5
}
