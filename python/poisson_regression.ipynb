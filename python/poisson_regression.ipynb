{
 "cells": [
  {
   "cell_type": "code",
   "id": "initial_id",
   "metadata": {
    "collapsed": true,
    "ExecuteTime": {
     "end_time": "2024-07-18T04:30:30.609496Z",
     "start_time": "2024-07-18T04:30:22.667789Z"
    }
   },
   "source": [
    "# 使用するモジュールのインポート\n",
    "\n",
    "import numpy as np\n",
    "import pandas as pd\n",
    "import statsmodels.api as sm\n",
    "from statsmodels.discrete.discrete_model import Poisson"
   ],
   "outputs": [],
   "execution_count": 1
  },
  {
   "metadata": {},
   "cell_type": "code",
   "outputs": [],
   "execution_count": null,
   "source": [
    "# csvの読み込み\n",
    "\n"
   ],
   "id": "b32755a0cad0b48a"
  },
  {
   "metadata": {
    "ExecuteTime": {
     "end_time": "2024-07-18T06:22:11.233022Z",
     "start_time": "2024-07-18T06:22:11.227855Z"
    }
   },
   "cell_type": "code",
   "source": [
    "# パラメーターの設定\n",
    "\n",
    "alpha = 1\n",
    "delta = \n",
    "\n",
    "# 観光に使う支出の平均を算出\n",
    "money = [2000, 1000, 1000, 800, 1500, 2000, 2000, 1000, 1500, 7000, 500, 30000, 3000, 300, 2000, 2000, 4000, 4000, 5000, 3000]\n",
    "\n",
    "ave_money = np.mean(money)\n",
    "\n",
    "#print(ave_money)"
   ],
   "id": "35ffd14a965b5b4b",
   "outputs": [
    {
     "name": "stdout",
     "output_type": "stream",
     "text": [
      "3680.0\n"
     ]
    }
   ],
   "execution_count": 6
  },
  {
   "metadata": {},
   "cell_type": "code",
   "outputs": [],
   "execution_count": null,
   "source": [
    "# 応答変数の作成\n",
    "\n",
    "T_ij ="
   ],
   "id": "5394a1210eafaa4f"
  },
  {
   "metadata": {},
   "cell_type": "code",
   "outputs": [],
   "execution_count": null,
   "source": [
    "# 説明変数の生成\n",
    "log_D_ij = np.log10(D_ij)\n",
    "log_P_ij = np.log10(P_ij)\n",
    "\n",
    "# phi_jとkappa_jの計算\n",
    "beta_j_initial = 1.0  # 初期値として1.0を使用\n",
    "kappa_j = -mu * alpha * log_P_ij + beta_j_initial\n",
    "phi_j = alpha * (delta + beta_j_initial) * np.ones_like(kappa_j)"
   ],
   "id": "e5ae3b096e1efb32"
  },
  {
   "metadata": {},
   "cell_type": "code",
   "outputs": [],
   "execution_count": null,
   "source": [
    "# 説明変数のデザイン行列を作成\n",
    "X = np.column_stack((phi_j, kappa_j))\n",
    "X = sm.add_constant(X)"
   ],
   "id": "ceefd6259747e9a2"
  },
  {
   "metadata": {},
   "cell_type": "code",
   "outputs": [],
   "execution_count": null,
   "source": [
    "# ポアソン回帰モデルの初期化とフィッティング\n",
    "poisson = Poisson(T_ij, X)\n",
    "poisson_results = poisson.fit()"
   ],
   "id": "d6c03330f6061dc9"
  },
  {
   "metadata": {},
   "cell_type": "code",
   "outputs": [],
   "execution_count": null,
   "source": [
    "# 結果の表示\n",
    "print(poisson_results.summary())"
   ],
   "id": "dcc963153bea5441"
  },
  {
   "metadata": {},
   "cell_type": "code",
   "outputs": [],
   "execution_count": null,
   "source": [
    "# β_jの表示\n",
    "beta_j = poisson_results.params[1]\n",
    "print(f\"推定された β_j: {beta_j}\")"
   ],
   "id": "418999a7c4e32bc1"
  },
  {
   "metadata": {
    "ExecuteTime": {
     "end_time": "2024-07-18T06:39:41.571453Z",
     "start_time": "2024-07-18T06:39:41.502469Z"
    }
   },
   "cell_type": "code",
   "source": [
    "import numpy as np\n",
    "import pandas as pd\n",
    "import statsmodels.api as sm\n",
    "from statsmodels.discrete.discrete_model import Poisson\n",
    "\n",
    "# サンプルデータを作成\n",
    "np.random.seed(42)\n",
    "N = 100  # サンプル数\n",
    "D_ij = np.random.uniform(1, 100, N)\n",
    "P_ij = np.random.uniform(1, 100, N)\n",
    "T_ij = np.random.poisson(lam=5, size=N)  # 仮の応答変数\n",
    "\n",
    "# 定数パラメータの設定\n",
    "mu = 0.1\n",
    "alpha = 0.5\n",
    "delta = 0.2\n",
    "\n",
    "# 説明変数の生成\n",
    "log_D_ij = np.log10(D_ij)\n",
    "log_P_ij = np.log10(P_ij)\n",
    "\n",
    "# \\varphi_{jm} と \\kappa_{jm} の計算\n",
    "beta_jm_initial_guess = 1.0  # 初期値として1.0を使用（適宜調整）\n",
    "phi_j = alpha * (delta + beta_jm_initial_guess)\n",
    "kappa_j = -mu * alpha * log_P_ij + beta_jm_initial_guess\n",
    "\n",
    "# 説明変数のデザイン行列を作成\n",
    "X = np.column_stack((phi_j, kappa_j))\n",
    "X = sm.add_constant(X)\n",
    "\n",
    "# ポアソン回帰モデルの設計とフィッティング\n",
    "poisson_model = Poisson(T_ij, X)\n",
    "poisson_results = poisson_model.fit()\n",
    "\n",
    "# 結果の表示\n",
    "poisson_results_summary = poisson_results.summary()\n",
    "\n",
    "# 推定されたパラメータ\n",
    "beta_jm = poisson_results.params[1]\n",
    "beta_jm, poisson_results_summary\n"
   ],
   "id": "bd48aaca01f0aca8",
   "outputs": [
    {
     "ename": "ValueError",
     "evalue": "all the input array dimensions except for the concatenation axis must match exactly, but along dimension 0, the array at index 0 has size 1 and the array at index 1 has size 100",
     "output_type": "error",
     "traceback": [
      "\u001B[1;31m---------------------------------------------------------------------------\u001B[0m",
      "\u001B[1;31mValueError\u001B[0m                                Traceback (most recent call last)",
      "Cell \u001B[1;32mIn[8], line 28\u001B[0m\n\u001B[0;32m     25\u001B[0m kappa_j \u001B[38;5;241m=\u001B[39m \u001B[38;5;241m-\u001B[39mmu \u001B[38;5;241m*\u001B[39m alpha \u001B[38;5;241m*\u001B[39m log_P_ij \u001B[38;5;241m+\u001B[39m beta_jm_initial_guess\n\u001B[0;32m     27\u001B[0m \u001B[38;5;66;03m# 説明変数のデザイン行列を作成\u001B[39;00m\n\u001B[1;32m---> 28\u001B[0m X \u001B[38;5;241m=\u001B[39m \u001B[43mnp\u001B[49m\u001B[38;5;241;43m.\u001B[39;49m\u001B[43mcolumn_stack\u001B[49m\u001B[43m(\u001B[49m\u001B[43m(\u001B[49m\u001B[43mphi_j\u001B[49m\u001B[43m,\u001B[49m\u001B[43m \u001B[49m\u001B[43mkappa_j\u001B[49m\u001B[43m)\u001B[49m\u001B[43m)\u001B[49m\n\u001B[0;32m     29\u001B[0m X \u001B[38;5;241m=\u001B[39m sm\u001B[38;5;241m.\u001B[39madd_constant(X)\n\u001B[0;32m     31\u001B[0m \u001B[38;5;66;03m# ポアソン回帰モデルの設計とフィッティング\u001B[39;00m\n",
      "File \u001B[1;32m~\\2023_B2\\Lib\\site-packages\\numpy\\lib\\shape_base.py:652\u001B[0m, in \u001B[0;36mcolumn_stack\u001B[1;34m(tup)\u001B[0m\n\u001B[0;32m    650\u001B[0m         arr \u001B[38;5;241m=\u001B[39m array(arr, copy\u001B[38;5;241m=\u001B[39m\u001B[38;5;28;01mFalse\u001B[39;00m, subok\u001B[38;5;241m=\u001B[39m\u001B[38;5;28;01mTrue\u001B[39;00m, ndmin\u001B[38;5;241m=\u001B[39m\u001B[38;5;241m2\u001B[39m)\u001B[38;5;241m.\u001B[39mT\n\u001B[0;32m    651\u001B[0m     arrays\u001B[38;5;241m.\u001B[39mappend(arr)\n\u001B[1;32m--> 652\u001B[0m \u001B[38;5;28;01mreturn\u001B[39;00m \u001B[43m_nx\u001B[49m\u001B[38;5;241;43m.\u001B[39;49m\u001B[43mconcatenate\u001B[49m\u001B[43m(\u001B[49m\u001B[43marrays\u001B[49m\u001B[43m,\u001B[49m\u001B[43m \u001B[49m\u001B[38;5;241;43m1\u001B[39;49m\u001B[43m)\u001B[49m\n",
      "\u001B[1;31mValueError\u001B[0m: all the input array dimensions except for the concatenation axis must match exactly, but along dimension 0, the array at index 0 has size 1 and the array at index 1 has size 100"
     ]
    }
   ],
   "execution_count": 8
  },
  {
   "metadata": {},
   "cell_type": "code",
   "outputs": [],
   "execution_count": null,
   "source": "",
   "id": "9181bf58fb5e33e4"
  }
 ],
 "metadata": {
  "kernelspec": {
   "display_name": "Python 3",
   "language": "python",
   "name": "python3"
  },
  "language_info": {
   "codemirror_mode": {
    "name": "ipython",
    "version": 2
   },
   "file_extension": ".py",
   "mimetype": "text/x-python",
   "name": "python",
   "nbconvert_exporter": "python",
   "pygments_lexer": "ipython2",
   "version": "2.7.6"
  }
 },
 "nbformat": 4,
 "nbformat_minor": 5
}
